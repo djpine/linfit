{
 "metadata": {
  "name": "",
  "signature": "sha256:7ed7f1cf068b3332af3ffe88152d1c53c2378bd380a3ea309808115a822a6faa"
 },
 "nbformat": 3,
 "nbformat_minor": 0,
 "worksheets": [
  {
   "cells": [
    {
     "cell_type": "heading",
     "level": 1,
     "metadata": {},
     "source": [
      "Least squares fitting using ``linfit.py``"
     ]
    },
    {
     "cell_type": "markdown",
     "metadata": {},
     "source": [
      "This notebook demonstrates the function ``linfit``, which I propose adding to the numpy library.  \n",
      "\n",
      "``linfit`` is designed to be a fast, lightweight function, written entirely in Python, that only calculates only as much as the user desires, and no more.  It can handle arbitrarily large data sets."
     ]
    },
    {
     "cell_type": "heading",
     "level": 3,
     "metadata": {},
     "source": [
      "What is ``linfit`` and what does it do?"
     ]
    },
    {
     "cell_type": "markdown",
     "metadata": {},
     "source": [
      "``linfit`` is a function that performs least squares fitting of a straight line to an $(x,y)$ data set.  It has the following features:\n",
      "\n",
      "* ``linfit`` can fit a straight line $ax+b$ to unweighted $(x,y)$ data where the output is the slope $a$ and y-intercept $b$ that minimizes the square of the residuals $$E = \\sum_{i=1}^n \\left[ y_i-(ax_i+b) \\right]^2$$ where $n$ is the number of data points.\n",
      "\n",
      "    - Optional outputs:\n",
      "    \n",
      "        - $\\Delta a$ and $\\Delta b$, the respective uncertainties in the fitted values of $a$ and $b$.  By default, these estimates of $\\Delta a$ and $\\Delta b$ use the residuals $|y_i-(ax_i+b)|$ as estimates of the uncertainties $\\sigma_i$ of the data (\"relative weighting\").\n",
      "        - $y_i-(ax_i+b)$, the residuals.\n",
      "\n",
      "* Alternatively, ``linfit`` can fit a straight line $ax+b$ to $(x,y)$ data that is weighted using estimates of the uncertainties of the data provided as an optional keyword argument.  The uncertanties can be expressed as either as (1) a single number $\\sigma$ or (2) as an array of uncertainties $\\sigma_i$. In the first case, the output is the slope $a$ and y-intercept $b$ that minimizes $\\chi^2$, which is defined as $$\\chi^2 = \\frac{1}{\\sigma^2}\\sum_{i=0}^n \\left[ y_i-(a x_i + b) \\right]^2$$In the second case, the output is the slope $a$ and y-intercept $b$ that minimizes $\\chi^2$, which is defined as $$\\chi^2 = \\sum_{i=0}^n \\left[ \\frac{y_i-(a x_i + b)}{\\sigma_i} \\right]^2$$\n",
      "\n",
      "    - Optional outputs:\n",
      "\n",
      "        - $\\chi^2/(n-2)$, the reduced value of $\\chi^2$, which should be approximately equal to 1 if a straight line is a good model of the data and good error estimates $\\sigma_i$ are provided.\n",
      "    \n",
      "        - $\\Delta a$ and $\\Delta b$, the uncertainties $\\Delta a$ and $\\Delta b$ in the fitted values of $a$ and $b$.  By default, these estimates of $\\Delta a$ and $\\Delta b$ use the residuals $|y_i-(ax_i+b)|$ as estimates of the uncertainties $\\sigma_i$ of the data.\n",
      "        - $y_i-(ax_i+b)$, the residuals.\n",
      "\n",
      "``linfit`` can also be used for nonlinear fitting for functions that can be transformed to be linear in the fitting parameters.  In this case, using weighting is essential to get the fit right."
     ]
    },
    {
     "cell_type": "heading",
     "level": 3,
     "metadata": {},
     "source": [
      "Demonstrations of ``linfit.py``"
     ]
    },
    {
     "cell_type": "markdown",
     "metadata": {},
     "source": [
      "Import libraries we will need."
     ]
    },
    {
     "cell_type": "code",
     "collapsed": false,
     "input": [
      "import numpy as np\n",
      "import matplotlib.pyplot as plt\n",
      "import matplotlib.gridspec as gridspec  # for unequal plot boxes\n",
      "from linfit import linfit"
     ],
     "language": "python",
     "metadata": {},
     "outputs": [],
     "prompt_number": 1
    },
    {
     "cell_type": "heading",
     "level": 3,
     "metadata": {},
     "source": [
      "Very simple demonstration."
     ]
    },
    {
     "cell_type": "markdown",
     "metadata": {},
     "source": [
      "Perform a simple linear fit without any weighting."
     ]
    },
    {
     "cell_type": "code",
     "collapsed": false,
     "input": [
      "x = np.array([0, 1, 2, 3])\n",
      "y = np.array([-1, 0.2, 0.9, 2.1])\n",
      "fit, cvm = linfit(x, y)\n",
      "print(\"slope = {0:0.2f}, y-intercept = {1:0.2f}\".format(fit[0], fit[1]))"
     ],
     "language": "python",
     "metadata": {},
     "outputs": [
      {
       "output_type": "stream",
       "stream": "stdout",
       "text": [
        "slope = 1.00, y-intercept = -0.95\n"
       ]
      }
     ],
     "prompt_number": 2
    },
    {
     "cell_type": "markdown",
     "metadata": {},
     "source": [
      "Plot the above data and fit."
     ]
    },
    {
     "cell_type": "code",
     "collapsed": false,
     "input": [
      "xfit = np.array([-0.2, 3.2])\n",
      "yfit = fit[0]*xfit + fit[1]\n",
      "plt.plot(x, y, 'ro', label=\"data\")\n",
      "plt.plot(xfit, yfit, zorder=-1, label=\"ax+b\")\n",
      "plt.text(-0.4, 1.1, \"a={0:0.2f}\\nb={1:0.2f}\"\n",
      "         .format(fit[0], fit[1]), fontsize=12)\n",
      "plt.legend(loc=\"upper left\")\n",
      "plt.xlabel('x')\n",
      "plt.show()"
     ],
     "language": "python",
     "metadata": {},
     "outputs": [
      {
       "metadata": {},
       "output_type": "display_data",
       "png": "[encoded data removed]",
       "text": [
        "<matplotlib.figure.Figure at 0x1086a8890>"
       ]
      }
     ],
     "prompt_number": 3
    },
    {
     "cell_type": "markdown",
     "metadata": {},
     "source": [
      "Perform same fit without weighting but get estimates for uncertainties in slope and y-intercept from covariance matrix."
     ]
    },
    {
     "cell_type": "code",
     "collapsed": false,
     "input": [
      "fit, cvm = linfit(x, y, relsigma=True)\n",
      "dfit = [np.sqrt(cvm[i,i]) for i in range(2)]\n",
      "print(u\"slope = {0:0.2f} \\xb1 {1:0.2f}\".format(fit[0], dfit[0]))\n",
      "print(u\"y-intercept = {0:0.2f} \\xb1 {1:0.2f}\".format(fit[1], dfit[1]))"
     ],
     "language": "python",
     "metadata": {},
     "outputs": [
      {
       "output_type": "stream",
       "stream": "stdout",
       "text": [
        "slope = 1.00 \u00b1 0.07\n",
        "y-intercept = -0.95 \u00b1 0.13\n"
       ]
      }
     ],
     "prompt_number": 4
    },
    {
     "cell_type": "heading",
     "level": 3,
     "metadata": {},
     "source": [
      "Demonstration of a fit to data with error estimates for each data point"
     ]
    },
    {
     "cell_type": "code",
     "collapsed": false,
     "input": [
      "# data set for linear fitting \n",
      "x = np.array([2.3, 4.7, 7.1, 9.6, 11.7, 14.1, 16.4, 18.8, 21.1, 23.0])\n",
      "y = np.array([-25., 3., 110., 110., 230., 300., 270., 320., 450., 400.])\n",
      "sigmay = np.array([15., 30., 30., 40., 40., 50., 40., 30., 50., 30.])\n",
      "\n",
      "# Fit linear data set with weighting\n",
      "fit, cvm, info = linfit(x, y, sigmay=sigmay, relsigma=False, return_all=True)\n",
      "dfit = [np.sqrt(cvm[i,i]) for i in range(2)]\n",
      "print(u\"slope = {0:0.1f} \\xb1 {1:0.1f}\".format(fit[0], dfit[0]))\n",
      "print(u\"y-intercept = {0:0.0f} \\xb1 {1:0.0f}\".format(fit[1], dfit[1]))"
     ],
     "language": "python",
     "metadata": {},
     "outputs": [
      {
       "output_type": "stream",
       "stream": "stdout",
       "text": [
        "slope = 21.7 \u00b1 1.2\n",
        "y-intercept = -72 \u00b1 15\n"
       ]
      }
     ],
     "prompt_number": 5
    },
    {
     "cell_type": "markdown",
     "metadata": {},
     "source": [
      "Plot the data with error bars together with the fit.  Plot the residuals in a separate graph above the data with fit."
     ]
    },
    {
     "cell_type": "code",
     "collapsed": false,
     "input": [
      "# Open figure window for plotting data with linear fit\n",
      "fig = plt.figure(1, figsize=(8,8))\n",
      "gs = gridspec.GridSpec(2, 1, height_ratios=[2.5, 6])\n",
      "\n",
      "# Bottom plot: data and fit\n",
      "ax1 = fig.add_subplot(gs[1])\n",
      "\n",
      "# Plot data with error bars\n",
      "ax1.errorbar(x, y, yerr = sigmay, ecolor=\"black\", fmt=\"ro\", ms=5)\n",
      "\n",
      "# Plot fit (behind data)\n",
      "endx = 0.05 * (x.max()-x.min())\n",
      "xFit = np.array([x.min()-endx, x.max()+endx])\n",
      "yFit = fit[0]*xFit + fit[1]\n",
      "ax1.plot(xFit, yFit, \"-b\", zorder=-1)\n",
      "\n",
      "# Print out results of fit on plot\n",
      "ax1.text(0.05, 0.9,     # slope of fit\n",
      "    u\"slope = {0:0.1f} \\xb1 {1:0.1f}\".format(fit[0], dfit[0]),\n",
      "    ha=\"left\", va=\"center\", transform = ax1.transAxes)\n",
      "ax1.text(0.05, 0.83,    # y-intercept of fit\n",
      "    u\"y-intercept = {0:0.1f} \\xb1 {1:0.1f}\".format(fit[1], dfit[1]),\n",
      "    ha=\"left\", va=\"center\", transform = ax1.transAxes)\n",
      "ax1.text(0.05, 0.76,    # reduced chi-squared of fit\n",
      "    \"redchisq = {0:0.2f}\".format(info.rchisq),\n",
      "    ha=\"left\", va=\"center\", transform = ax1.transAxes)\n",
      "ax1.text(0.05, 0.69,    # correlation coefficient of fitted slope & y-intercept\n",
      "    \"rcov = {0:0.2f}\".format(cvm[0,1]/(dfit[0]*dfit[1])),\n",
      "    ha=\"left\", va=\"center\", transform = ax1.transAxes)\n",
      "\n",
      "# Label axes\n",
      "ax1.set_xlabel(\"time\")\n",
      "ax1.set_ylabel(\"velocity\")\n",
      "\n",
      "# Top plot: residuals\n",
      "ax2 = fig.add_subplot(gs[0])\n",
      "ax2.axhline(color=\"gray\", zorder = -1)\n",
      "ax2.errorbar(x, info.resids, yerr = sigmay, ecolor=\"black\", fmt=\"ro\", ms=5)\n",
      "ax2.set_ylabel(\"residuals\")\n",
      "ax2.set_ylim(-100, 150)\n",
      "ax2.set_yticks((-100, 0, 100))\n",
      "\n",
      "plt.show()\n"
     ],
     "language": "python",
     "metadata": {},
     "outputs": [
      {
       "metadata": {},
       "output_type": "display_data",
       "png": "[encoded data removed]",
       "text": [
        "<matplotlib.figure.Figure at 0x1086a2d10>"
       ]
      }
     ],
     "prompt_number": 6
    },
    {
     "cell_type": "markdown",
     "metadata": {},
     "source": [
      "Fit the same $(x,y)$ data set but with a single value of $\\sigma$ for the entire data set."
     ]
    },
    {
     "cell_type": "code",
     "collapsed": false,
     "input": [
      "sigmay0 = 34.9\n",
      "fit, cvm, info = linfit(x, y, sigmay=sigmay0, relsigma=False, return_all=True)\n",
      "dfit = [np.sqrt(cvm[i,i]) for i in range(2)]\n",
      "print(u\"slope = {0:0.1f} \\xb1 {1:0.1f}\".format(fit[0], dfit[0]))\n",
      "print(u\"y-intercept = {0:0.0f} \\xb1 {1:0.0f}\".format(fit[1], dfit[1]))\n",
      "print(u\"redchisq = {0:0.2f}\".format(info.rchisq))"
     ],
     "language": "python",
     "metadata": {},
     "outputs": [
      {
       "output_type": "stream",
       "stream": "stdout",
       "text": [
        "slope = 22.4 \u00b1 1.7\n",
        "y-intercept = -72 \u00b1 24\n",
        "redchisq = 1.34\n"
       ]
      }
     ],
     "prompt_number": 7
    },
    {
     "cell_type": "heading",
     "level": 3,
     "metadata": {},
     "source": [
      "Fit a huge data set."
     ]
    },
    {
     "cell_type": "markdown",
     "metadata": {},
     "source": [
      "Create data set with 100000 data points."
     ]
    },
    {
     "cell_type": "code",
     "collapsed": false,
     "input": [
      "def randomData(xmax, npts):\n",
      "    x = np.random.uniform(-xmax, xmax, npts)\n",
      "    scale = np.sqrt(xmax)\n",
      "    a, b = scale * (np.random.rand(2)-0.5)\n",
      "    y = a*x + b + a * scale * np.random.randn(npts)\n",
      "    dy = a * scale * (1.0 + np.random.rand(npts))\n",
      "    return x, y, dy\n",
      "\n",
      "npts = 100000\n",
      "x, y, dy = randomData(100., npts)"
     ],
     "language": "python",
     "metadata": {},
     "outputs": [],
     "prompt_number": 8
    },
    {
     "cell_type": "markdown",
     "metadata": {},
     "source": [
      "Fit straight line to the data."
     ]
    },
    {
     "cell_type": "code",
     "collapsed": false,
     "input": [
      "fit, cvm = linfit(x, y)\n",
      "slope, yint = fit"
     ],
     "language": "python",
     "metadata": {},
     "outputs": [],
     "prompt_number": 9
    },
    {
     "cell_type": "markdown",
     "metadata": {},
     "source": [
      "Plot the data together with the fit."
     ]
    },
    {
     "cell_type": "code",
     "collapsed": false,
     "input": [
      "xm = 0.05*(x.max()-x.min())\n",
      "xfit = np.array([x.min()-xm, x.max()+xm])\n",
      "yfit = slope*xfit + yint\n",
      "plt.plot(xfit, yfit, '-k')\n",
      "plt.plot(x, y, \".r\", ms=1, zorder=-1)"
     ],
     "language": "python",
     "metadata": {},
     "outputs": [
      {
       "metadata": {},
       "output_type": "pyout",
       "prompt_number": 10,
       "text": [
        "[<matplotlib.lines.Line2D at 0x108693c10>]"
       ]
      },
      {
       "metadata": {},
       "output_type": "display_data",
       "png": "[encoded data removed]",
       "text": [
        "<matplotlib.figure.Figure at 0x108693dd0>"
       ]
      }
     ],
     "prompt_number": 10
    },
    {
     "cell_type": "markdown",
     "metadata": {},
     "source": [
      "Compare execution times of linfit and polyfit to fit a randomly generated data set of 10000 $(x,y)$ data points.  On my computers, linfit is about 6 times faster than polyfit for unweighted data and about 3 times faster for weighted data."
     ]
    },
    {
     "cell_type": "code",
     "collapsed": false,
     "input": [
      "import timeit\n",
      "setup = '''\n",
      "from linfit import linfit\n",
      "import numpy as np\n",
      "\n",
      "def randomData(xmax, npts):\n",
      "    x = np.random.uniform(-xmax, xmax, npts)\n",
      "    scale = np.sqrt(xmax)\n",
      "    a, b = scale * (np.random.rand(2)-0.5)\n",
      "    y = a*x + b + a * scale * np.random.randn(npts)\n",
      "    dy = a * scale * (1.0 + np.random.rand(npts))\n",
      "    return x, y, dy\n",
      "\n",
      "npts = 100000\n",
      "x, y, dy = randomData(100., npts)\n",
      "'''\n",
      "nreps = 7\n",
      "nruns = 100\n",
      "\n",
      "linfitNOwt = min(timeit.Timer('fit, cvm = linfit(x, y)', setup=setup).repeat(nreps, nruns))\n",
      "polyfitNOwt = min(timeit.Timer('slope, yint = np.polyfit(x, y, 1)', setup=setup).repeat(nreps, nruns))\n",
      "print(\"TIME COMPARISON WITH NO WEIGHTING OF DATA\")\n",
      "print(\"  linfit time = {}\\n polyfit time = {}\\n        ratio = {}\"\n",
      "      .format(linfitNOwt, polyfitNOwt, polyfitNOwt/linfitNOwt))\n",
      "linfitWT = min(timeit.Timer('slope, yint = linfit(x, y, sigmay=dy)', setup=setup).repeat(nreps, nruns))\n",
      "polyfitWT = min(timeit.Timer('slope, yint = np.polyfit(x, y, 1, w=dy)', setup=setup).repeat(nreps, nruns))\n",
      "print(\"TIME COMPARISON WITH WEIGHTING OF DATA\")\n",
      "print(\"  linfit time = {}\\n polyfit time = {}\\n        ratio = {}\"\n",
      "      .format(linfitWT, polyfitWT, polyfitWT/linfitWT))"
     ],
     "language": "python",
     "metadata": {},
     "outputs": [
      {
       "output_type": "stream",
       "stream": "stdout",
       "text": [
        "TIME COMPARISON WITH NO WEIGHTING OF DATA\n",
        "  linfit time = 0.156857013702\n",
        " polyfit time = 0.925079107285\n",
        "        ratio = 5.89759479318\n",
        "TIME COMPARISON WITH WEIGHTING OF DATA"
       ]
      },
      {
       "output_type": "stream",
       "stream": "stdout",
       "text": [
        "\n",
        "  linfit time = 0.413146972656\n",
        " polyfit time = 1.04039406776\n",
        "        ratio = 2.51821781744\n"
       ]
      }
     ],
     "prompt_number": 11
    },
    {
     "cell_type": "heading",
     "level": 3,
     "metadata": {},
     "source": [
      "Using linear fitting routine for non-linear fitting"
     ]
    },
    {
     "cell_type": "markdown",
     "metadata": {},
     "source": [
      "Linear fitting with weighting can be used to fit functions that are nonlinear in the fitting parameters, provided the fitting function can be transformed into one that is linear in the fitting paramters.  This can be done for exponential functions and power-law functions.  This approach is illusutrated in the next two examples."
     ]
    },
    {
     "cell_type": "heading",
     "level": 4,
     "metadata": {},
     "source": [
      "Using an exponential fitting function with linfit"
     ]
    },
    {
     "cell_type": "markdown",
     "metadata": {},
     "source": [
      "Nuclear decay provides a convenient example of an exponential fitting function: $N(t) = N_0 e^{-t/\\tau}$.\n",
      "\n",
      "Here are the $N$ vs $t$ data together with the uncertainties $\\Delta N$."
     ]
    },
    {
     "cell_type": "code",
     "collapsed": false,
     "input": [
      "t = np.array([0., 32.8, 65.6, 98.4, 131.2, 164., 196.8, 229.6, 262.4, \n",
      "              295.2, 328., 360.8, 393.6, 426.4, 459.2, 492.])\n",
      "N = np.array([5.08, 3.29, 2.23, 1.48, 1.11, 0.644, 0.476, 0.273, 0.188, \n",
      "              0.141, 0.0942, 0.0768, 0.0322, 0.0322, 0.0198, 0.0198])\n",
      "dN = np.array([0.11, 0.09, 0.07, 0.06, 0.05, 0.04, 0.03, 0.03,\n",
      "               0.02, 0.02, 0.015, 0.014, 0.009, 0.009, 0.007, 0.007])"
     ],
     "language": "python",
     "metadata": {},
     "outputs": [],
     "prompt_number": 12
    },
    {
     "cell_type": "markdown",
     "metadata": {},
     "source": [
      "Linear and semi-log plots of the data with error bars:"
     ]
    },
    {
     "cell_type": "code",
     "collapsed": false,
     "input": [
      "fig = plt.figure(1, figsize=(10, 3.5))\n",
      "ax1 = fig.add_subplot(1,2,1)\n",
      "ax2 = fig.add_subplot(1,2,2)\n",
      "ax2.set_yscale(\"log\")\n",
      "for ax in [ax1, ax2]:\n",
      "    ax.errorbar(t, N, yerr=dN, xerr=None, fmt='ro', ecolor='k', ms=3)\n",
      "    ax.set_xlim(-10, 500)\n",
      "    ax.set_xlabel('t')\n",
      "    ax.set_ylabel('N')"
     ],
     "language": "python",
     "metadata": {},
     "outputs": [
      {
       "metadata": {},
       "output_type": "display_data",
       "png": "[encoded data removed]",
       "text": [
        "<matplotlib.figure.Figure at 0x10872af50>"
       ]
      }
     ],
     "prompt_number": 13
    },
    {
     "cell_type": "markdown",
     "metadata": {},
     "source": [
      "The semi-log plot suggests we can use linfit to fit the data by taking the logarithm of the $y$ data.  Taking the logarithm of the exponential fitting function gives $$\\ln N = -\\frac{t}{\\tau} + \\ln N_0\\;.$$  Defining $y=\\ln N$, $a=-1/\\tau$, and $b=\\ln N_0$, the equation takes the form $y = at+b$ and can be fit using linfit.\n",
      "\n",
      "The uncertainties $\\Delta y$ are related to $\\Delta N$ by taking the differential of  the tranformation $y=\\ln N$:\n",
      "$$\n",
      "\\begin{align}\n",
      "  \\Delta y &= \\left(\\frac{\\partial y}{\\partial N}\\right)\\Delta N \\\\\n",
      "           &= \\frac{\\Delta N}{N}\n",
      "\\end{align}\n",
      "$$\n",
      "To fit the data, we tranform the $N$ and $\\Delta N$ data:"
     ]
    },
    {
     "cell_type": "code",
     "collapsed": false,
     "input": [
      "y = np.log(N)\n",
      "dy = dN/N"
     ],
     "language": "python",
     "metadata": {},
     "outputs": [],
     "prompt_number": 14
    },
    {
     "cell_type": "markdown",
     "metadata": {},
     "source": [
      "Next we perform the fit on the tranformed data:"
     ]
    },
    {
     "cell_type": "code",
     "collapsed": false,
     "input": [
      "fit, cvm, info = linfit(t, y, sigmay=dy, relsigma=False, return_all=True)"
     ],
     "language": "python",
     "metadata": {},
     "outputs": [],
     "prompt_number": 15
    },
    {
     "cell_type": "markdown",
     "metadata": {},
     "source": [
      "Extract $\\tau$ and $N_0$ from fit of transformed data"
     ]
    },
    {
     "cell_type": "code",
     "collapsed": false,
     "input": [
      "a, b = fit[0], fit[1]\n",
      "tau = -1.0/a\n",
      "N0 = np.exp(b)"
     ],
     "language": "python",
     "metadata": {},
     "outputs": [],
     "prompt_number": 16
    },
    {
     "cell_type": "markdown",
     "metadata": {},
     "source": [
      "Extract the uncertainties in the fitting parameters $a$ and $b$."
     ]
    },
    {
     "cell_type": "code",
     "collapsed": false,
     "input": [
      "dfit = [np.sqrt(cvm[i,i]) for i in range(2)]\n",
      "da, db = dfit[0], dfit[1]"
     ],
     "language": "python",
     "metadata": {},
     "outputs": [],
     "prompt_number": 17
    },
    {
     "cell_type": "markdown",
     "metadata": {},
     "source": [
      "Get the uncertainties in $\\tau$ and $N_0$ from the transformation equations:\n",
      "$$\n",
      "\\begin{align}\n",
      "  \\tau=\u22121/a\n",
      "    \\quad &\\Rightarrow \\Delta \\tau = \\left|\\frac{\\partial \\tau}{\\partial a}\\right|\\Delta a\n",
      "    \\quad \\Rightarrow \\Delta \\tau = \\frac{\\Delta a}{a^2} \\\\\n",
      "  N_0=e^b\n",
      "    \\quad &\\Rightarrow \\Delta N_0 = \\left|\\frac{\\partial N_0}{\\partial b}\\right|\\Delta b\n",
      "    \\quad  \\Rightarrow \\Delta N_0 = e^b\\Delta b \\\\\n",
      "\\end{align}\n",
      "$$"
     ]
    },
    {
     "cell_type": "code",
     "collapsed": false,
     "input": [
      "dtau = da/(a*a)\n",
      "dN0 = np.exp(b)*db"
     ],
     "language": "python",
     "metadata": {},
     "outputs": [],
     "prompt_number": 18
    },
    {
     "cell_type": "markdown",
     "metadata": {},
     "source": [
      "Plot the data and fit on linear and semi-log plots"
     ]
    },
    {
     "cell_type": "code",
     "collapsed": false,
     "input": [
      "tm = 0.05*(t.max()-t.min())\n",
      "tfit = np.linspace(t.min()-tm, t.max()+tm, 50) \n",
      "Nfit = N0*np.exp(-tfit/tau)\n",
      "fig = plt.figure(1, figsize=(10, 3.5))\n",
      "ax1 = fig.add_subplot(1,2,1)\n",
      "ax2 = fig.add_subplot(1,2,2)\n",
      "ax2.set_yscale(\"log\")\n",
      "ax2.set_ylim(0.01, 10.)\n",
      "for ax in [ax1, ax2]:\n",
      "    ax.errorbar(t, N, yerr=dN, xerr=None, fmt='ro', ecolor='k', ms=3)\n",
      "    ax.plot(tfit, Nfit, '-', color=\"gray\", zorder=-1)\n",
      "    ax.set_xlim(-10, 500)\n",
      "    ax.set_xlabel('t')\n",
      "    ax.set_ylabel('N')\n",
      "    ax.text(0.95, 0.95,\"$\\\\tau = {0:0.1f}\\pm{1:0.1f}$\\n$N_0 = {2:0.2f}\\pm{3:0.2f}$\"\n",
      "         .format(tau, dtau, N0, dN0), fontsize=12, \n",
      "         ha='right', va='top', transform=ax.transAxes)\n"
     ],
     "language": "python",
     "metadata": {},
     "outputs": [
      {
       "metadata": {},
       "output_type": "display_data",
       "png": "[encoded data removed]",
       "text": [
        "<matplotlib.figure.Figure at 0x10e41fe50>"
       ]
      }
     ],
     "prompt_number": 19
    },
    {
     "cell_type": "markdown",
     "metadata": {},
     "source": [
      "A similar procedure can be used to fit data to a power-law $y=Ax^p$ with $A$ and $p$ as the fitting parameters."
     ]
    },
    {
     "cell_type": "heading",
     "level": 3,
     "metadata": {},
     "source": [
      "Need for linfit.py"
     ]
    },
    {
     "cell_type": "markdown",
     "metadata": {},
     "source": [
      "Currently, there is no function available in numpy or scipy expressly designed to perform chi-squared least square fitting of a straight line to a single data set with weighting (error bars).  There are two functions available in numpy and scipy that can be adapted to fit single straight lines to data with weighting: ``numpy.polyfit`` and ``scipy.linalg.lstsq``.  Both of these have drawbacks if the desired task is to fit a straight line to a single data set.  In addition to these two functions, ``scipy.stats.linregress`` fits a straight line but without any provision for weighting.  \n",
      "\n",
      "* numpy.polyfit and scipy.linalg.lstsq are both slower than ``linfit``: ``numpy.polyfit`` is generally a few times slower; scipy.linalg.lstsq is also a few times slower but can be several hundreds of times slower depending on the weighting used and the size of the data set.  This is because, in part, both ``numpy.polyfit`` and ``scipy.linalg.lstsq`` involve matrix inversion while linfit does not.  More generally, both ``numpy.polyfit`` and ``scipy.linalg.lstsq`` have significant overhead associated with the more general fitting problems they are designed to address.\n",
      "\n",
      "* In its current configuration, ``numpy.polyfit`` does not allow absolute weighting of the data; only relative weighting is implemented.  ``linfit`` allows either relative (the default) or absolute weighting (by setting the keyword argument relsigma=False)"
     ]
    }
   ],
   "metadata": {}
  }
 ]
}